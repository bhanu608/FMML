{
  "nbformat": 4,
  "nbformat_minor": 0,
  "metadata": {
    "colab": {
      "provenance": [],
      "collapsed_sections": [],
      "authorship_tag": "ABX9TyMXeliltcT+bpSZmDXoARlH",
      "include_colab_link": true
    },
    "kernelspec": {
      "name": "python3",
      "display_name": "Python 3"
    },
    "language_info": {
      "name": "python"
    }
  },
  "cells": [
    {
      "cell_type": "markdown",
      "metadata": {
        "id": "view-in-github",
        "colab_type": "text"
      },
      "source": [
        "<a href=\"https://colab.research.google.com/github/bhanu608/FMML/blob/main/M1_Lab1.ipynb\" target=\"_parent\"><img src=\"https://colab.research.google.com/assets/colab-badge.svg\" alt=\"Open In Colab\"/></a>"
      ]
    },
    {
      "cell_type": "markdown",
      "source": [
        "# section 1-python data types and indexing"
      ],
      "metadata": {
        "id": "BB4PEw8fqNPv"
      }
    },
    {
      "cell_type": "markdown",
      "source": [
        "<b> Error-1 </b>"
      ],
      "metadata": {
        "id": "VYGjtDRCqsmt"
      }
    },
    {
      "cell_type": "code",
      "source": [
        "name_tuple = ('First Lab', 1, (2,3),[1,1,'list having string']) ## A tuple can have a tuple.\n",
        " \n",
        "print(name_tuple)#before\n",
        "# to make above data mutable we need to convert the tuple datatype to list \n",
        "# so that we can make assignments\n",
        "name_tuple = list(name_tuple)\n",
        "name_tuple[1] = 2\n",
        "print(name_tuple)#after \n"
      ],
      "metadata": {
        "colab": {
          "base_uri": "https://localhost:8080/"
        },
        "id": "2TFWgBRQqwFS",
        "outputId": "081e684a-16c5-48b6-d897-204977d15615"
      },
      "execution_count": null,
      "outputs": [
        {
          "output_type": "stream",
          "name": "stdout",
          "text": [
            "('First Lab', 1, (2, 3), [1, 1, 'list having string'])\n",
            "['First Lab', 2, (2, 3), [1, 1, 'list having string']]\n"
          ]
        }
      ]
    },
    {
      "cell_type": "markdown",
      "source": [
        "<b> Error-2"
      ],
      "metadata": {
        "id": "jnQouJKYvndV"
      }
    },
    {
      "cell_type": "code",
      "source": [
        "set_unique = set([1,1,2,3,5,6,'Lab1'])\n",
        "#to index a set we need to convert it into list\n",
        "print(set_unique)\n",
        "set_unique = list(set_unique)\n",
        "print(set_unique[1])"
      ],
      "metadata": {
        "colab": {
          "base_uri": "https://localhost:8080/"
        },
        "id": "XJ5w4mSxvpVo",
        "outputId": "a1221f85-6cb0-4f8e-ce63-92fd9c3c89b1"
      },
      "execution_count": null,
      "outputs": [
        {
          "output_type": "stream",
          "name": "stdout",
          "text": [
            "{1, 2, 3, 5, 6, 'Lab1'}\n",
            "2\n"
          ]
        }
      ]
    },
    {
      "cell_type": "markdown",
      "source": [
        "# question 1"
      ],
      "metadata": {
        "id": "d6dHMPzayJY8"
      }
    },
    {
      "cell_type": "markdown",
      "source": [
        "###1. Methods for lists:"
      ],
      "metadata": {
        "id": "ZGHWhlEFyQhq"
      }
    },
    {
      "cell_type": "code",
      "source": [
        "li = [1, 2, 3, 4]\n",
        "li.append(4) #1\n",
        "print(li)\n",
        "li.extend([5])#2\n",
        "print(li)\n",
        "li.pop()#3\n",
        "print(li)\n",
        "li.reverse()#4\n",
        "print(li)\n",
        "li.sort()\n",
        "print(li)"
      ],
      "metadata": {
        "colab": {
          "base_uri": "https://localhost:8080/"
        },
        "id": "_PHJ2vBIydHt",
        "outputId": "830f8218-7278-4806-af77-a95c71fef603"
      },
      "execution_count": null,
      "outputs": [
        {
          "output_type": "stream",
          "name": "stdout",
          "text": [
            "[1, 2, 3, 4, 4]\n",
            "[1, 2, 3, 4, 4, 5]\n",
            "[1, 2, 3, 4, 4]\n",
            "[4, 4, 3, 2, 1]\n",
            "[1, 2, 3, 4, 4]\n"
          ]
        }
      ]
    },
    {
      "cell_type": "markdown",
      "source": [
        "### 2.Methods for set"
      ],
      "metadata": {
        "id": "rG4ZezfL1ru3"
      }
    },
    {
      "cell_type": "code",
      "source": [
        "s = {1, 2, 3}\n",
        "s.add(4)#1\n",
        "print(s)\n",
        "s_cpy = s.copy()#2\n",
        "print(s)\n",
        "print(s.union(s_cpy))#3\n",
        "print(s.intersection(s_cpy))#4\n",
        "print(s.difference(s_cpy))#5"
      ],
      "metadata": {
        "colab": {
          "base_uri": "https://localhost:8080/"
        },
        "id": "_ZULNQG315lW",
        "outputId": "4cbba775-46d1-4e8e-c6c7-c5b1bae19c7b"
      },
      "execution_count": null,
      "outputs": [
        {
          "output_type": "stream",
          "name": "stdout",
          "text": [
            "{1, 2, 3, 4}\n",
            "{1, 2, 3, 4}\n",
            "{1, 2, 3, 4}\n",
            "{1, 2, 3, 4}\n",
            "set()\n"
          ]
        }
      ]
    },
    {
      "cell_type": "markdown",
      "source": [
        "### Methods for tuple"
      ],
      "metadata": {
        "id": "FCYcMBtN3Ruz"
      }
    },
    {
      "cell_type": "code",
      "source": [
        "t = (1, 2, 3, 3)\n",
        "print(t.count(3))#1\n",
        "print(t.index(3))#2\n",
        "print(max(t))#3\n",
        "print(min(t))#4\n",
        "print(len(t))#5"
      ],
      "metadata": {
        "colab": {
          "base_uri": "https://localhost:8080/"
        },
        "id": "_jw17a2J3zKL",
        "outputId": "1d7d6e27-34ef-47b2-bd89-20a1238cde8d"
      },
      "execution_count": null,
      "outputs": [
        {
          "output_type": "stream",
          "name": "stdout",
          "text": [
            "2\n",
            "2\n",
            "3\n",
            "1\n",
            "4\n"
          ]
        }
      ]
    },
    {
      "cell_type": "markdown",
      "source": [
        "### methods for dictionary"
      ],
      "metadata": {
        "id": "Ky5MqNywVlCG"
      }
    },
    {
      "cell_type": "code",
      "source": [
        "dict = {1:'one', 2:'two', 3:'three'}\n",
        "dict_cpy = dict.copy()#1\n",
        "print(dict_cpy)\n",
        "print(dict.items())#2\n",
        "print(dict.keys())#3\n",
        "print(dict.values())#4\n",
        "dict.clear()#5\n",
        "print(dict)"
      ],
      "metadata": {
        "colab": {
          "base_uri": "https://localhost:8080/"
        },
        "id": "rg7W5-_nVr_q",
        "outputId": "25226eaf-4820-4582-84f8-90cbd3f187a6"
      },
      "execution_count": null,
      "outputs": [
        {
          "output_type": "stream",
          "name": "stdout",
          "text": [
            "{1: 'one', 2: 'two', 3: 'three'}\n",
            "dict_items([(1, 'one'), (2, 'two'), (3, 'three')])\n",
            "dict_keys([1, 2, 3])\n",
            "dict_values(['one', 'two', 'three'])\n",
            "{}\n"
          ]
        }
      ]
    },
    {
      "cell_type": "markdown",
      "source": [
        "# Question 1"
      ],
      "metadata": {
        "id": "DRKl0MrqXv-e"
      }
    },
    {
      "cell_type": "code",
      "source": [
        "def fun(str1, str2):\n",
        "  n = len(str1)\n",
        "  for i in range(n):\n",
        "    str2 += str1[n-i-1]\n",
        "  return str2\n",
        "print(fun('un','bha'))"
      ],
      "metadata": {
        "colab": {
          "base_uri": "https://localhost:8080/"
        },
        "id": "Puodj1ioXzHB",
        "outputId": "5e1e4f13-c6b4-412c-f8e8-cb706fe50e86"
      },
      "execution_count": null,
      "outputs": [
        {
          "output_type": "stream",
          "name": "stdout",
          "text": [
            "bhanu\n"
          ]
        }
      ]
    },
    {
      "cell_type": "markdown",
      "source": [
        "# Question 2"
      ],
      "metadata": {
        "id": "MavY3bS2ZuqS"
      }
    },
    {
      "cell_type": "code",
      "source": [
        "def fun(work_hours):\n",
        "  name, sal=work_hours[0][0], work_hours[0][1] \n",
        "  for i in work_hours:\n",
        "    if i[2] == 'F':\n",
        "      if i[1] > sal:\n",
        "        name, sal = i[0], i[1]\n",
        "  return name, sal\n",
        "work_hours = [('Abby',100 , 'F'),('Billy',400, 'M'),('Cassie',800,'F'), ('Maggi',600,'F'),('Alex',500,'M'),('Raj',225,'M'),('Penny',920,'F'),('Ben',300,'M')] \n",
        "name, sal= fun(work_hours)\n",
        "print('the female worker that worked the most hours is {} and she should be paid {}'.format(name, sal * 20))"
      ],
      "metadata": {
        "colab": {
          "base_uri": "https://localhost:8080/"
        },
        "id": "Bt4fvi4zZxNc",
        "outputId": "2c476e4b-8cfb-408a-d6b4-e2a9ba47d605"
      },
      "execution_count": null,
      "outputs": [
        {
          "output_type": "stream",
          "name": "stdout",
          "text": [
            "the female worker that worked the most hours is Penny and she should be paid 18400\n"
          ]
        }
      ]
    },
    {
      "cell_type": "markdown",
      "source": [
        "# Question 3"
      ],
      "metadata": {
        "id": "uaGHGyzgyEwR"
      }
    },
    {
      "cell_type": "markdown",
      "source": [
        "a)"
      ],
      "metadata": {
        "id": "TDShDVzvyoy6"
      }
    },
    {
      "cell_type": "code",
      "source": [
        "import numpy as np\n",
        "final = np.vstack([np.hstack([i]*5) for i in range(1, 6)])\n",
        "print(final)"
      ],
      "metadata": {
        "colab": {
          "base_uri": "https://localhost:8080/"
        },
        "id": "23Lu7I0uyq_e",
        "outputId": "7942f233-d314-4f65-a3bb-9d941db4ee1f"
      },
      "execution_count": null,
      "outputs": [
        {
          "output_type": "stream",
          "name": "stdout",
          "text": [
            "[[1 1 1 1 1]\n",
            " [2 2 2 2 2]\n",
            " [3 3 3 3 3]\n",
            " [4 4 4 4 4]\n",
            " [5 5 5 5 5]]\n"
          ]
        }
      ]
    },
    {
      "cell_type": "markdown",
      "source": [
        "b)"
      ],
      "metadata": {
        "id": "si3ztPKt3cSg"
      }
    },
    {
      "cell_type": "code",
      "source": [
        "import numpy as np \n",
        "\n",
        "a = np.array([[1,2],[3,4]]) \n",
        "b = np.array([[11,12],[13,14]]) \n",
        "c = np.dot(a,b)\n",
        "print(c)\n",
        "print(c.shape)"
      ],
      "metadata": {
        "colab": {
          "base_uri": "https://localhost:8080/"
        },
        "id": "ulN-e3783dVc",
        "outputId": "cb95ab7a-0298-4638-fb54-54d6118f6d31"
      },
      "execution_count": null,
      "outputs": [
        {
          "output_type": "stream",
          "name": "stdout",
          "text": [
            "[[37 40]\n",
            " [85 92]]\n",
            "(2, 2)\n"
          ]
        }
      ]
    },
    {
      "cell_type": "markdown",
      "source": [
        "# question 4"
      ],
      "metadata": {
        "id": "naeMrpaM5e6D"
      }
    },
    {
      "cell_type": "code",
      "source": [
        "from matplotlib import pyplot as plt\n",
        "from google.colab import drive\n",
        "\n",
        "drive.mount('/content/gdrive')\n",
        "image = plt.imread('/content/gdrive/MyDrive/final_chart.png')\n",
        "plt.imshow(image)"
      ],
      "metadata": {
        "colab": {
          "base_uri": "https://localhost:8080/",
          "height": 590
        },
        "id": "2XUAVqkE5iil",
        "outputId": "d41d5a5a-b7ca-4e83-c314-de031159fbc9"
      },
      "execution_count": null,
      "outputs": [
        {
          "output_type": "stream",
          "name": "stdout",
          "text": [
            "Drive already mounted at /content/gdrive; to attempt to forcibly remount, call drive.mount(\"/content/gdrive\", force_remount=True).\n"
          ]
        },
        {
          "output_type": "execute_result",
          "data": {
            "text/plain": [
              "<matplotlib.image.AxesImage at 0x7fe69ba18ed0>"
            ]
          },
          "metadata": {},
          "execution_count": 19
        },
        {
          "output_type": "display_data",
          "data": {
            "text/plain": [
              "<Figure size 432x288 with 1 Axes>"
            ],
            "image/png": "[encoded data removed]"
          },
          "metadata": {
            "needs_background": "light"
          }
        },
        {
          "output_type": "stream",
          "name": "stdout",
          "text": [
            "Drive already mounted at /content/gdrive; to attempt to forcibly remount, call drive.mount(\"/content/gdrive\", force_remount=True).\n"
          ]
        },
        {
          "output_type": "execute_result",
          "data": {
            "text/plain": [
              "<matplotlib.image.AxesImage at 0x7fe692cca310>"
            ]
          },
          "metadata": {},
          "execution_count": 20
        },
        {
          "output_type": "display_data",
          "data": {
            "text/plain": [
              "<Figure size 432x288 with 1 Axes>"
            ],
            "image/png": "[encoded data removed]"
          },
          "metadata": {
            "needs_background": "light"
          }
        }
      ]
    },
    {
      "cell_type": "code",
      "source": [
        "\n"
      ],
      "metadata": {
        "id": "t5tMOq1S_1ll"
      },
      "execution_count": null,
      "outputs": []
    }
  ]
}